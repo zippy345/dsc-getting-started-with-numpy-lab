{
 "cells": [
  {
   "cell_type": "markdown",
   "metadata": {},
   "source": [
    "# Getting Started with NumPy - Lab"
   ]
  },
  {
   "cell_type": "markdown",
   "metadata": {},
   "source": [
    "## Introduction"
   ]
  },
  {
   "cell_type": "markdown",
   "metadata": {},
   "source": [
    "Now that we have introduced NumPy, let's put it to practice. In this lab, you are going to be creating arrays, performing operations on them, and returning new arrays all using the NumPy library. Let's get started!"
   ]
  },
  {
   "cell_type": "markdown",
   "metadata": {},
   "source": [
    "## Objectives\n",
    "\n",
    "You will be able to: \n",
    "\n",
    "- Instantiate a numpy array with specified values \n",
    "- Use broadcasting to perform a math operation on an entire numpy array \n"
   ]
  },
  {
   "cell_type": "markdown",
   "metadata": {},
   "source": [
    "## Import `NumPy` under the standard alias"
   ]
  },
  {
   "cell_type": "code",
   "execution_count": 1,
   "metadata": {},
   "outputs": [],
   "source": [
    "# Import numpy using the standard alias\n",
    "import numpy as np\n"
   ]
  },
  {
   "cell_type": "markdown",
   "metadata": {},
   "source": [
    "## Generate some mock data"
   ]
  },
  {
   "cell_type": "markdown",
   "metadata": {},
   "source": [
    "Create a NumPy array for each of the following:\n",
    "    1. Using a range\n",
    "    2. Using a Python list\n",
    "    \n",
    "Below, create a list in Python that has 5 elements (i.e. [0,1,2,3,4]) and assign it to the variable `py_list`. \n",
    "\n",
    "Next, do the same, but instead of a list, create a range with 5 elements and assign it to the variable, `py_range`.\n",
    "\n",
    "Finally, use the list and range to create NumPy arrays and assign the array from list to the variable `array_from_list`, and the array from the range to the variable `array_from_range`."
   ]
  },
  {
   "cell_type": "code",
   "execution_count": 7,
   "metadata": {},
   "outputs": [],
   "source": [
    "py_range = range(0,5)"
   ]
  },
  {
   "cell_type": "code",
   "execution_count": 11,
   "metadata": {},
   "outputs": [],
   "source": [
    "py_list =[0,1,2,3,4]"
   ]
  },
  {
   "cell_type": "code",
   "execution_count": 14,
   "metadata": {},
   "outputs": [
    {
     "name": "stdout",
     "output_type": "stream",
     "text": [
      "[0 1 2 3 4] [0 1 2 3 4]\n"
     ]
    }
   ],
   "source": [
    "# Your code here\n",
    "py_list = [0,1,2,3,4]\n",
    "py_range = range(0,5)\n",
    "array_from_list = np.array(py_list)\n",
    "array_from_list = np.array(py_range)\n",
    "print(array_from_list, array_from_list)"
   ]
  },
  {
   "cell_type": "markdown",
   "metadata": {},
   "source": [
    "Next, we have a list of heights and weights and we'd like to use them to create a collection of BMIs. However, they are both in inches and pounds (imperial system), respectively. \n",
    "\n",
    "Let's use what we know to create NumPy arrays with the metric equivalent values (height in meters & weight in kg).\n",
    "\n",
    "> **Remember:** *NumPy can make these calculations a lot easier and with less code than a list!*"
   ]
  },
  {
   "cell_type": "markdown",
   "metadata": {},
   "source": [
    "> 1.0 inch = 0.0254 meters\n",
    "\n",
    "> 2.2046 lbs = 1 kilogram"
   ]
  },
  {
   "cell_type": "code",
   "execution_count": 15,
   "metadata": {},
   "outputs": [
    {
     "data": {
      "text/plain": [
       "array([1.651 , 1.7272, 1.8542, 1.905 , 1.9812])"
      ]
     },
     "execution_count": 15,
     "metadata": {},
     "output_type": "execute_result"
    }
   ],
   "source": [
    "# Use the conversion rate for turning height in inches to meters\n",
    "list_height_inches = [65, 68, 73, 75, 78]\n",
    "\n",
    "# Your code here\n",
    "array_height_inches = np.array(list_height_inches)\n",
    "#multiply the array by 0.0254 then divide by 1.0 .\n",
    "array_height_meters = np.divide(np.multiply(np.array(list_height_inches),0.0254),1.0)\n",
    "array_height_meters\n",
    "     #expected results [1.651, 1.7272, 1.8542, 1.905 , 1.9812]"
   ]
  },
  {
   "cell_type": "code",
   "execution_count": 16,
   "metadata": {},
   "outputs": [
    {
     "data": {
      "text/plain": [
       "array([ 68.03955366,  63.50358342,  99.79134537,  92.98739   ,\n",
       "       120.20321147])"
      ]
     },
     "execution_count": 16,
     "metadata": {},
     "output_type": "execute_result"
    }
   ],
   "source": [
    "# Use the conversion rate for turning weight in pounds to kilograms\n",
    "list_weight_pounds = [150, 140, 220, 205, 265]\n",
    "\n",
    "# Your code here\n",
    "array_weight_pounds = np.array(list_weight_pounds )\n",
    "#multiply the array by 1 then divide by 2.2046.\n",
    "array_weight_kg = np.divide(np.multiply( np.array(list_weight_pounds ),1),2.2046)\n",
    "array_weight_kg# expected result [ 68.04,  63.5 ,  99.79,  92.99, 120.2 ] "
   ]
  },
  {
   "cell_type": "markdown",
   "metadata": {},
   "source": [
    "The metric formula for calculating BMI is as follows:\n",
    "\n",
    "> BMI = weight (kg) ÷ height^2 (m^2)\n",
    "\n",
    "So, to get BMI we divide weight by the squared value of height. For example, if I weighed 130kg and was 1.9 meters tall, the calculation would look like:\n",
    "\n",
    "> BMI = 130 / (1.9*1.9)\n",
    "\n",
    "Use the BMI calculation to create a NumPy array of BMIs"
   ]
  },
  {
   "cell_type": "code",
   "execution_count": 17,
   "metadata": {},
   "outputs": [
    {
     "data": {
      "text/plain": [
       "array([24.9613063 , 21.28692715, 29.02550097, 25.62324316, 30.62382485])"
      ]
     },
     "execution_count": 17,
     "metadata": {},
     "output_type": "execute_result"
    }
   ],
   "source": [
    "# Your code here\n",
    "# square the height array list\n",
    "squared_height_array = np.power(array_height_meters ,2)\n",
    "#so divide the weight with the  squared height\n",
    "BMI_array = array_weight_kg /squared_height_array\n",
    "BMI_array            #expected results([24.9613063 , 21.28692715, 29.02550097, 25.62324316, 30.62382485])"
   ]
  },
  {
   "cell_type": "markdown",
   "metadata": {},
   "source": [
    "## Create a vector of ones the same size as your BMI vector using `np.ones()`"
   ]
  },
  {
   "cell_type": "code",
   "execution_count": 18,
   "metadata": {},
   "outputs": [
    {
     "data": {
      "text/plain": [
       "array([1., 1., 1., 1., 1.])"
      ]
     },
     "execution_count": 18,
     "metadata": {},
     "output_type": "execute_result"
    }
   ],
   "source": [
    "# Your code here\n",
    "identity = np.ones(5)\n",
    "identity"
   ]
  },
  {
   "cell_type": "markdown",
   "metadata": {},
   "source": [
    "## Multiply the BMI_array by your vector of ones\n",
    "The resulting product should have the same values as your original BMI numpy array."
   ]
  },
  {
   "cell_type": "code",
   "execution_count": 19,
   "metadata": {},
   "outputs": [
    {
     "data": {
      "text/plain": [
       "array([24.9613063 , 21.28692715, 29.02550097, 25.62324316, 30.62382485])"
      ]
     },
     "execution_count": 19,
     "metadata": {},
     "output_type": "execute_result"
    }
   ],
   "source": [
    "# Your code here\n",
    "results = np.multiply(BMI_array,identity)\n",
    "results"
   ]
  },
  {
   "cell_type": "markdown",
   "metadata": {},
   "source": [
    "## Level Up: Using NumPy to Parse a File\n",
    "The Pandas library that we've been using is built on top of NumPy; all columns/series in a Pandas DataFrame are built using NumPy arrays. To get a better idea of a how a built-in method like `pd.read_csv()` works, we'll try and recreate that here!"
   ]
  },
  {
   "cell_type": "code",
   "execution_count": 20,
   "metadata": {},
   "outputs": [
    {
     "name": "stdout",
     "output_type": "stream",
     "text": [
      "The file has 21 lines.\n"
     ]
    },
    {
     "data": {
      "text/html": [
       "<div>\n",
       "<style scoped>\n",
       "    .dataframe tbody tr th:only-of-type {\n",
       "        vertical-align: middle;\n",
       "    }\n",
       "\n",
       "    .dataframe tbody tr th {\n",
       "        vertical-align: top;\n",
       "    }\n",
       "\n",
       "    .dataframe thead th {\n",
       "        text-align: right;\n",
       "    }\n",
       "</style>\n",
       "<table border=\"1\" class=\"dataframe\">\n",
       "  <thead>\n",
       "    <tr style=\"text-align: right;\">\n",
       "      <th></th>\n",
       "      <th>Pt\\tBP\\tAge\\tWeight\\tBSA\\tDur\\tPulse\\tStress</th>\n",
       "    </tr>\n",
       "  </thead>\n",
       "  <tbody>\n",
       "    <tr>\n",
       "      <th>0</th>\n",
       "      <td>1\\t105\\t47\\t85.4\\t1.75\\t5.1\\t63\\t33</td>\n",
       "    </tr>\n",
       "    <tr>\n",
       "      <th>1</th>\n",
       "      <td>2\\t115\\t49\\t94.2\\t2.10\\t3.8\\t70\\t14</td>\n",
       "    </tr>\n",
       "    <tr>\n",
       "      <th>2</th>\n",
       "      <td>3\\t116\\t49\\t95.3\\t1.98\\t8.2\\t72\\t10</td>\n",
       "    </tr>\n",
       "    <tr>\n",
       "      <th>3</th>\n",
       "      <td>4\\t117\\t50\\t94.7\\t2.01\\t5.8\\t73\\t99</td>\n",
       "    </tr>\n",
       "    <tr>\n",
       "      <th>4</th>\n",
       "      <td>5\\t112\\t51\\t89.4\\t1.89\\t7.0\\t72\\t95</td>\n",
       "    </tr>\n",
       "    <tr>\n",
       "      <th>5</th>\n",
       "      <td>6\\t121\\t48\\t99.5\\t2.25\\t9.3\\t71\\t10</td>\n",
       "    </tr>\n",
       "    <tr>\n",
       "      <th>6</th>\n",
       "      <td>7\\t121\\t49\\t99.8\\t2.25\\t2.5\\t69\\t42</td>\n",
       "    </tr>\n",
       "    <tr>\n",
       "      <th>7</th>\n",
       "      <td>8\\t110\\t47\\t90.9\\t1.90\\t6.2\\t66\\t8</td>\n",
       "    </tr>\n",
       "    <tr>\n",
       "      <th>8</th>\n",
       "      <td>9\\t110\\t49\\t89.2\\t1.83\\t7.1\\t69\\t62</td>\n",
       "    </tr>\n",
       "    <tr>\n",
       "      <th>9</th>\n",
       "      <td>10\\t114\\t48\\t92.7\\t2.07\\t5.6\\t64\\t35</td>\n",
       "    </tr>\n",
       "    <tr>\n",
       "      <th>10</th>\n",
       "      <td>11\\t114\\t47\\t94.4\\t2.07\\t5.3\\t74\\t90</td>\n",
       "    </tr>\n",
       "    <tr>\n",
       "      <th>11</th>\n",
       "      <td>12\\t115\\t49\\t94.1\\t1.98\\t5.6\\t71\\t21</td>\n",
       "    </tr>\n",
       "    <tr>\n",
       "      <th>12</th>\n",
       "      <td>13\\t114\\t50\\t91.6\\t2.05\\t10.2\\t68\\t47</td>\n",
       "    </tr>\n",
       "    <tr>\n",
       "      <th>13</th>\n",
       "      <td>14\\t106\\t45\\t87.1\\t1.92\\t5.6\\t67\\t80</td>\n",
       "    </tr>\n",
       "    <tr>\n",
       "      <th>14</th>\n",
       "      <td>15\\t125\\t52\\t101.3\\t2.19\\t10.0\\t76\\t98</td>\n",
       "    </tr>\n",
       "    <tr>\n",
       "      <th>15</th>\n",
       "      <td>16\\t114\\t46\\t94.5\\t1.98\\t7.4\\t69\\t95</td>\n",
       "    </tr>\n",
       "    <tr>\n",
       "      <th>16</th>\n",
       "      <td>17\\t106\\t46\\t87.0\\t1.87\\t3.6\\t62\\t18</td>\n",
       "    </tr>\n",
       "    <tr>\n",
       "      <th>17</th>\n",
       "      <td>18\\t113\\t46\\t94.5\\t1.90\\t4.3\\t70\\t12</td>\n",
       "    </tr>\n",
       "    <tr>\n",
       "      <th>18</th>\n",
       "      <td>19\\t110\\t48\\t90.5\\t1.88\\t9.0\\t71\\t99</td>\n",
       "    </tr>\n",
       "    <tr>\n",
       "      <th>19</th>\n",
       "      <td>20\\t122\\t56\\t95.7\\t2.09\\t7.0\\t75\\t99</td>\n",
       "    </tr>\n",
       "  </tbody>\n",
       "</table>\n",
       "</div>"
      ],
      "text/plain": [
       "   Pt\\tBP\\tAge\\tWeight\\tBSA\\tDur\\tPulse\\tStress\n",
       "0           1\\t105\\t47\\t85.4\\t1.75\\t5.1\\t63\\t33\n",
       "1           2\\t115\\t49\\t94.2\\t2.10\\t3.8\\t70\\t14\n",
       "2           3\\t116\\t49\\t95.3\\t1.98\\t8.2\\t72\\t10\n",
       "3           4\\t117\\t50\\t94.7\\t2.01\\t5.8\\t73\\t99\n",
       "4           5\\t112\\t51\\t89.4\\t1.89\\t7.0\\t72\\t95\n",
       "5           6\\t121\\t48\\t99.5\\t2.25\\t9.3\\t71\\t10\n",
       "6           7\\t121\\t49\\t99.8\\t2.25\\t2.5\\t69\\t42\n",
       "7            8\\t110\\t47\\t90.9\\t1.90\\t6.2\\t66\\t8\n",
       "8           9\\t110\\t49\\t89.2\\t1.83\\t7.1\\t69\\t62\n",
       "9          10\\t114\\t48\\t92.7\\t2.07\\t5.6\\t64\\t35\n",
       "10         11\\t114\\t47\\t94.4\\t2.07\\t5.3\\t74\\t90\n",
       "11         12\\t115\\t49\\t94.1\\t1.98\\t5.6\\t71\\t21\n",
       "12        13\\t114\\t50\\t91.6\\t2.05\\t10.2\\t68\\t47\n",
       "13         14\\t106\\t45\\t87.1\\t1.92\\t5.6\\t67\\t80\n",
       "14       15\\t125\\t52\\t101.3\\t2.19\\t10.0\\t76\\t98\n",
       "15         16\\t114\\t46\\t94.5\\t1.98\\t7.4\\t69\\t95\n",
       "16         17\\t106\\t46\\t87.0\\t1.87\\t3.6\\t62\\t18\n",
       "17         18\\t113\\t46\\t94.5\\t1.90\\t4.3\\t70\\t12\n",
       "18         19\\t110\\t48\\t90.5\\t1.88\\t9.0\\t71\\t99\n",
       "19         20\\t122\\t56\\t95.7\\t2.09\\t7.0\\t75\\t99"
      ]
     },
     "execution_count": 20,
     "metadata": {},
     "output_type": "execute_result"
    }
   ],
   "source": [
    "# Open a text file (csv files are just plaintext separated by commas)\n",
    "f = open('bp.txt')\n",
    "n_rows = len(f.readlines())\n",
    "# Print number of lines in the file\n",
    "print('The file has {} lines.'.format(n_rows)) \n",
    "# After using readlines, we must reopen the file\n",
    "f = open('bp.txt') \n",
    "# The file has values separated by tabs; we read the first line and check it's length \n",
    "n_cols = (len(f.readline().split('\\t'))) \n",
    "\n",
    "f = open('bp.txt')\n",
    "\n",
    "# Your code here\n",
    "import pandas as pd\n",
    "\n",
    "df =pd.read_csv('bp.txt')\n",
    "df\n",
    "# Pseudocode outline below\n",
    "#1) Create a matrix of zeros that is the same size of the file\n",
    "#2) Iterate through the file: \"for line in f:\" Hint: using enumerate will also be required\n",
    "    #3) Update each row of the matrix with the new stream of data\n",
    "    #Hint: skip the first row (it's just column names, not the data.)\n",
    "#4) Preview your results; you should now have a NumPy matrix with the data from the file\n"
   ]
  },
  {
   "cell_type": "markdown",
   "metadata": {},
   "source": [
    "Here’s a breakdown of the steps based on your pseudocode:\n",
    "\n",
    "* Create a matrix of zeros with the same dimensions as the file. This means we first need to know the number of rows and columns in the file.\n",
    "* Read the file line by line, skipping the first line (which contains the column headers).\n",
    "* Update each row in the matrix with the data from the file.\n",
    "* Preview the results."
   ]
  },
  {
   "cell_type": "code",
   "execution_count": 21,
   "metadata": {},
   "outputs": [
    {
     "name": "stdout",
     "output_type": "stream",
     "text": [
      "       0      1     2      3     4     5     6     7\n",
      "0    1.0  105.0  47.0   85.4  1.75   5.1  63.0  33.0\n",
      "1    2.0  115.0  49.0   94.2  2.10   3.8  70.0  14.0\n",
      "2    3.0  116.0  49.0   95.3  1.98   8.2  72.0  10.0\n",
      "3    4.0  117.0  50.0   94.7  2.01   5.8  73.0  99.0\n",
      "4    5.0  112.0  51.0   89.4  1.89   7.0  72.0  95.0\n",
      "5    6.0  121.0  48.0   99.5  2.25   9.3  71.0  10.0\n",
      "6    7.0  121.0  49.0   99.8  2.25   2.5  69.0  42.0\n",
      "7    8.0  110.0  47.0   90.9  1.90   6.2  66.0   8.0\n",
      "8    9.0  110.0  49.0   89.2  1.83   7.1  69.0  62.0\n",
      "9   10.0  114.0  48.0   92.7  2.07   5.6  64.0  35.0\n",
      "10  11.0  114.0  47.0   94.4  2.07   5.3  74.0  90.0\n",
      "11  12.0  115.0  49.0   94.1  1.98   5.6  71.0  21.0\n",
      "12  13.0  114.0  50.0   91.6  2.05  10.2  68.0  47.0\n",
      "13  14.0  106.0  45.0   87.1  1.92   5.6  67.0  80.0\n",
      "14  15.0  125.0  52.0  101.3  2.19  10.0  76.0  98.0\n",
      "15  16.0  114.0  46.0   94.5  1.98   7.4  69.0  95.0\n",
      "16  17.0  106.0  46.0   87.0  1.87   3.6  62.0  18.0\n",
      "17  18.0  113.0  46.0   94.5  1.90   4.3  70.0  12.0\n",
      "18  19.0  110.0  48.0   90.5  1.88   9.0  71.0  99.0\n",
      "19  20.0  122.0  56.0   95.7  2.09   7.0  75.0  99.0\n"
     ]
    }
   ],
   "source": [
    "import pandas as pd\n",
    "import numpy as np\n",
    "\n",
    "# Open the file and calculate the number of rows and columns\n",
    "f= open('bp.txt')\n",
    "\n",
    "# Read all lines in the file\n",
    "lines = f.readlines()\n",
    "n_rows = len(lines) - 1  # Subtract 1 to exclude the header row\n",
    "n_cols = len(lines[0].split('\\t'))  # Assuming data is tab-separated\n",
    "\n",
    "# Create a matrix of zeros with the same dimensions as the file\n",
    "data_matrix = np.zeros((n_rows, n_cols))\n",
    "\n",
    "# Reopen the file and skip the header row (first line)\n",
    "f= open('bp.txt')\n",
    "\n",
    "# Skip the header row\n",
    "next(f)\n",
    "\n",
    "# Iterate through the file, line by line\n",
    "for i, line in enumerate(f):\n",
    "    # Split the line by tab character and convert it to a list of values\n",
    "    row_data = line.strip().split('\\t')\n",
    "    \n",
    "    # Update the matrix (convert row data to numeric values and update the matrix)\n",
    "    data_matrix[i] = np.array(row_data, dtype=float)\n",
    "\n",
    "# Preview the result matrix\n",
    "#print(data_matrix)\n",
    "\n",
    "# If you want to convert it to a pandas DataFrame for easier visualization:\n",
    "df = pd.DataFrame(data_matrix)\n",
    "print(df)\n"
   ]
  },
  {
   "cell_type": "markdown",
   "metadata": {},
   "source": [
    "## Summary"
   ]
  },
  {
   "cell_type": "markdown",
   "metadata": {},
   "source": [
    "In this lab, we practiced creating NumPy arrays from both lists and ranges. We then practiced performing math operations like converting imperial measurements to metric measurements on each element of a NumPy array to create new arrays with new values. Finally, we used both of our new NumPy arrays to operate on each other and create new arrays containing the BMIs from our arrays containing heights and weights."
   ]
  }
 ],
 "metadata": {
  "kernelspec": {
   "display_name": "Python 3 (ipykernel)",
   "language": "python",
   "name": "python3"
  },
  "language_info": {
   "codemirror_mode": {
    "name": "ipython",
    "version": 3
   },
   "file_extension": ".py",
   "mimetype": "text/x-python",
   "name": "python",
   "nbconvert_exporter": "python",
   "pygments_lexer": "ipython3",
   "version": "3.12.7"
  }
 },
 "nbformat": 4,
 "nbformat_minor": 4
}
